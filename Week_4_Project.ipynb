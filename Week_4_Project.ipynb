{
 "cells": [
  {
   "cell_type": "markdown",
   "metadata": {},
   "source": [
    "# DTSA-5510 Week 4: BBC News Classification Kaggle Mini-Project\n",
    "## Author: Alan Klein\n",
    "## Create Date: 2025-04-27\n",
    "github link: https://github.com/Saganoky/DTSA-5510-Week-4-Kaggle-Project"
   ]
  },
  {
   "cell_type": "markdown",
   "metadata": {},
   "source": [
    "\n",
    "Compare with supervised learning [30 pts]\n",
    "\n",
    "Use the following steps to guide your work:\n",
    "\n",
    "1) Pick and train a supervised learning method(s) and compare the results (train and test performance)\n",
    "2) Discuss comparison with the unsupervised approach. You may try changing the train data size (e.g., Include only 10%, 20%, 50% of labels, and observe train/test performance changes). Which methods are data-efficient (require a smaller amount of data to achieve similar results)? What about overfitting?\n",
    "\n",
    "\n",
    "Produce Deliverable: High-Quality, Organized Jupyter Notebook Report\n",
    "This project gives you hands-on experience on Kaggle, a famous platform for data science competitions. To further your professional development, think of your peers as work colleagues. An essential part of this project is the Peer Review. \n",
    "\n",
    "Complete Part 2. \n",
    "\n",
    "Limitation(s) of sklearn’s non-negative matrix factorization library. [20 pts]\n",
    "\n",
    "1. Load the movie ratings data (as in the HW3-recommender-system) and use matrix factorization technique(s) and predict the missing ratings from the test data. Measure the RMSE. You should use sklearn library. [10 pts]\n",
    "\n",
    "\n",
    "2. Discuss the results and why sklearn's non-negative matrix facorization library did not work well compared to simple baseline or similarity-based methods we’ve done in Module 3. Can you suggest a way(s) to fix it? [10 pts]"
   ]
  },
  {
   "cell_type": "markdown",
   "metadata": {},
   "source": [
    "### Introduction\n",
    "For this project I will be analyzing a dataset of BBC news documents, with the goal of categorizing them into one of 5 categories, business, entertainment, politics, sport or tech.  This is a Kaggle competition dataset.  More information can be found here: https://www.kaggle.com/c/learn-ai-bbc/overview[1]\n",
    "\n",
    "Bijoy Bose. BBC News Classification. https://kaggle.com/competitions/learn-ai-bbc, 2019. Kaggle.\n",
    "\n",
    "#### Problem Solved \n",
    "Being able to classify documents solves a number of problems.  For example imagine someone auditing a company, being able to quickly find the relevant documents could save hundreds of hours of work.  Another use would be to be able to identify documents sensitive in nature, to make sure they are filed with the required safegaurds in place."
   ]
  },
  {
   "cell_type": "markdown",
   "metadata": {},
   "source": [
    "### Setup\n",
    "The code below imports all the required packages and sets up the kaggle API.  This repo uses UV to manage packages, see https://docs.astral.sh/uv/ for more information on how to use it.  Also, if you are not familiar with UV I highly recommend you check it out for package management. It fast and easy to use.  Also, from my experience it is being used more and more in industry."
   ]
  },
  {
   "cell_type": "code",
   "execution_count": 2,
   "metadata": {},
   "outputs": [],
   "source": [
    "import pandas as pd\n",
    "import numpy as np\n",
    "import matplotlib.pyplot as plt\n",
    "import seaborn as sns\n",
    "\n",
    "from sklearn.metrics import accuracy_score, f1_score, roc_curve, auc, confusion_matrix, classification_report, roc_auc_score, precision_recall_curve, make_scorer\n",
    "from sklearn.svm import SVC\n",
    "from sklearn.model_selection import train_test_split, cross_val_score, GridSearchCV\n",
    "from sklearn.preprocessing import StandardScaler\n",
    "from sklearn.ensemble import AdaBoostClassifier\n",
    "from sklearn.tree import DecisionTreeClassifier\n"
   ]
  },
  {
   "cell_type": "code",
   "execution_count": 3,
   "metadata": {},
   "outputs": [],
   "source": [
    "# This sets up the kaggle API.  You need to have a kaggle account and a token to be able to run this code.  \n",
    "# This video gives a pretty good explanation of how to get the token: https://www.youtube.com/watch?v=gkEbaMgvLs8&t=188s\n",
    "import kaggle\n",
    "from kaggle.api.kaggle_api_extended import KaggleApi\n",
    "api = KaggleApi()\n",
    "api.authenticate()\n"
   ]
  },
  {
   "cell_type": "code",
   "execution_count": 4,
   "metadata": {},
   "outputs": [
    {
     "name": "stdout",
     "output_type": "stream",
     "text": [
      "learn-ai-bbc.zip: Skipping, found more recently modified local copy (use --force to force download)\n",
      "^C\n"
     ]
    }
   ],
   "source": [
    "# Run these two commands to download and unzip the data sets into the data folder.\n",
    "!kaggle competitions download -c learn-ai-bbc\n",
    "!unzip learn-ai-bbc.zip -d data/"
   ]
  },
  {
   "cell_type": "markdown",
   "metadata": {},
   "source": [
    "### Extracting word features and show Exploratory Data Analysis (EDA) — Inspect, Visualize and Clean the Data (15 pts)\n",
    "\n",
    "Show a few visualizations like histograms. Describe any data cleaning procedures. Based on your EDA, what is your plan of analysis? \n",
    "\n",
    "Please feel free to look at online resources on processing raw texts to feature vectors. Many methods process texts to matrix form (word embedding), including TF-IDF, GloVe, Word2Vec, etc. Pick a method and process the raw texts to word embedding. Briefly explain the method(s) and how they work in your own words. Also, do exploratory data analysis such as word statistics and/or visualization.\n",
    "\n",
    "As we did not learn natural language processing (NLP) specific techniques such as word embeddings in the lectures, we recommend reading discussions and example codes from others in the Kaggle and/or doing some research online to make sure you understand. You can refer to any resource as needed, but make sure you “demonstrate” your understanding- please include explaining in your own words, discussions, and your interpretation. Also importantly, please have a reference list at the end of the report.  "
   ]
  },
  {
   "cell_type": "code",
   "execution_count": 5,
   "metadata": {},
   "outputs": [],
   "source": [
    "# Read in the data as dataframes\n",
    "train = pd.read_csv('data/BBC News Train.csv')\n",
    "test = pd.read_csv('data/BBC News Test.csv')\n",
    "sample_solution = pd.read_csv('data/BBC News Sample Solution.csv')"
   ]
  },
  {
   "cell_type": "code",
   "execution_count": 6,
   "metadata": {},
   "outputs": [
    {
     "data": {
      "text/plain": [
       "<bound method DataFrame.info of       ArticleId                                               Text  \\\n",
       "0          1833  worldcom ex-boss launches defence lawyers defe...   \n",
       "1           154  german business confidence slides german busin...   \n",
       "2          1101  bbc poll indicates economic gloom citizens in ...   \n",
       "3          1976  lifestyle  governs mobile choice  faster  bett...   \n",
       "4           917  enron bosses in $168m payout eighteen former e...   \n",
       "...         ...                                                ...   \n",
       "1485        857  double eviction from big brother model caprice...   \n",
       "1486        325  dj double act revamp chart show dj duo jk and ...   \n",
       "1487       1590  weak dollar hits reuters revenues at media gro...   \n",
       "1488       1587  apple ipod family expands market apple has exp...   \n",
       "1489        538  santy worm makes unwelcome visit thousands of ...   \n",
       "\n",
       "           Category  \n",
       "0          business  \n",
       "1          business  \n",
       "2          business  \n",
       "3              tech  \n",
       "4          business  \n",
       "...             ...  \n",
       "1485  entertainment  \n",
       "1486  entertainment  \n",
       "1487       business  \n",
       "1488           tech  \n",
       "1489           tech  \n",
       "\n",
       "[1490 rows x 3 columns]>"
      ]
     },
     "execution_count": 6,
     "metadata": {},
     "output_type": "execute_result"
    }
   ],
   "source": [
    "# Look at the data\n",
    "train.info\n",
    "\n",
    "# It appears to be 3 columns - ArticleId, Text and Category.  The text is the article and the category is the label we want to predict. "
   ]
  },
  {
   "cell_type": "code",
   "execution_count": 7,
   "metadata": {},
   "outputs": [
    {
     "name": "stdout",
     "output_type": "stream",
     "text": [
      "<class 'pandas.core.frame.DataFrame'>\n",
      "RangeIndex: 1490 entries, 0 to 1489\n",
      "Data columns (total 3 columns):\n",
      " #   Column     Non-Null Count  Dtype \n",
      "---  ------     --------------  ----- \n",
      " 0   ArticleId  1490 non-null   int64 \n",
      " 1   Text       1490 non-null   object\n",
      " 2   Category   1490 non-null   object\n",
      "dtypes: int64(1), object(2)\n",
      "memory usage: 35.1+ KB\n",
      "<class 'pandas.core.frame.DataFrame'>\n",
      "RangeIndex: 735 entries, 0 to 734\n",
      "Data columns (total 2 columns):\n",
      " #   Column     Non-Null Count  Dtype \n",
      "---  ------     --------------  ----- \n",
      " 0   ArticleId  735 non-null    int64 \n",
      " 1   Text       735 non-null    object\n",
      "dtypes: int64(1), object(1)\n",
      "memory usage: 11.6+ KB\n"
     ]
    }
   ],
   "source": [
    "# Check summary statistics of the train and test data\n",
    "train.info()\n",
    "test.info()\n",
    "\n",
    "# One thing to note is that we don't have any nulls in the test or train data."
   ]
  },
  {
   "cell_type": "code",
   "execution_count": 8,
   "metadata": {},
   "outputs": [
    {
     "data": {
      "text/plain": [
       "<Axes: xlabel='Category', ylabel='Count'>"
      ]
     },
     "execution_count": 8,
     "metadata": {},
     "output_type": "execute_result"
    },
    {
     "data": {
      "image/png": "[encoded data removed]",
      "text/plain": [
       "<Figure size 640x480 with 1 Axes>"
      ]
     },
     "metadata": {},
     "output_type": "display_data"
    }
   ],
   "source": [
    "# Find how many articles of each category we have in the train data.\n",
    "sns.histplot(train['Category'], bins=5)\n",
    "\n",
    "# There is a relatively even distribution of articles across the categories.  So we don't have to worry about class imbalance.  "
   ]
  },
  {
   "cell_type": "markdown",
   "metadata": {},
   "source": [
    "#"
   ]
  },
  {
   "cell_type": "code",
   "execution_count": 9,
   "metadata": {},
   "outputs": [
    {
     "name": "stdout",
     "output_type": "stream",
     "text": [
      "\n"
     ]
    }
   ],
   "source": [
    "# Split the data into train and validation sets. \n",
    "\n",
    "X_train, X_val, y_train, y_val = train_test_split(train['Text'], train['Category'], test_size=0.2, random_state=42)\n",
    "\n",
    "print()"
   ]
  },
  {
   "cell_type": "markdown",
   "metadata": {},
   "source": [
    "#### TF-IDF\n",
    "To vectorize the data I will use TfidfVectorizer from the sklearn library. TF-IDF stand for term frequency–inverse document frequency.  It is calculated as the product of 2 things TF and IDF.  TF is a measure of relative frequency.  Its calculated by counting the number of times a term appears in a document divided by the total number of terms in a document.  IDF is a measure of how common or rare a a word is across all documents.  This is calculated by taking the log of the total number of documents divided by the number of documents where the word appears.  By combining these two metrics together you get a high TF-IDF value when a word appears a lot in a single document but is relatively rare across all documents.  The theory behind why this calculation works is that it reduces the importance of very common words.[2]"
   ]
  },
  {
   "cell_type": "code",
   "execution_count": 10,
   "metadata": {},
   "outputs": [
    {
     "name": "stdout",
     "output_type": "stream",
     "text": [
      "[[0. 0. 0. ... 0. 0. 0.]\n",
      " [0. 0. 0. ... 0. 0. 0.]\n",
      " [0. 0. 0. ... 0. 0. 0.]\n",
      " ...\n",
      " [0. 0. 0. ... 0. 0. 0.]\n",
      " [0. 0. 0. ... 0. 0. 0.]\n",
      " [0. 0. 0. ... 0. 0. 0.]]\n",
      "['00' '00 minute' '00 work' ... 'zvonareva russia' 'zvonareva struggled'\n",
      " 'zvonareva wimbledon']\n"
     ]
    }
   ],
   "source": [
    "# Implementing Tfidf using notes from problem solving with ML[3]\n",
    "\n",
    "from sklearn.feature_extraction.text import TfidfVectorizer\n",
    "def word_embeddings(X_data):\n",
    "    # Strip accents, which are just extra characters, sublinear_tf makes is so the tf using a log scale, \n",
    "    # as words use zips law[3], stripping stop words, and using ngrams of 1 or 2 words.\n",
    "    tfidf = TfidfVectorizer(strip_accents = 'unicode', sublinear_tf=True, ngram_range=(1, 2), stop_words='english')\n",
    "    features = tfidf.fit_transform(X_data).toarray()\n",
    "    return features, tfidf.get_feature_names_out(), tfidf\n",
    "\n",
    "\n",
    "features, ngrams, vectorizer_model = word_embeddings(X_train)\n",
    "\n",
    "# set to print out all of the vector\n",
    "np.set_printoptions(threshold=np.inf)\n",
    "# can uncomment below to see what one of the vectors looks like.  It is very sparse.\n",
    "# print(features[0])\n",
    "\n",
    "np.set_printoptions(threshold=20)\n",
    "print(features)\n",
    "print(ngrams)\n"
   ]
  },
  {
   "cell_type": "code",
   "execution_count": 11,
   "metadata": {},
   "outputs": [
    {
     "name": "stderr",
     "output_type": "stream",
     "text": [
      "C:\\Users\\ajkle\\AppData\\Local\\Temp\\ipykernel_17380\\921378643.py:8: FutureWarning: \n",
      "\n",
      "Passing `palette` without assigning `hue` is deprecated and will be removed in v0.14.0. Assign the `y` variable to `hue` and set `legend=False` for the same effect.\n",
      "\n",
      "  sns.barplot(x = 'sum_TFIDF', y = 'ngram', data = Top_20_ngrams, palette = 'viridis')\n"
     ]
    },
    {
     "data": {
      "text/plain": [
       "<Axes: xlabel='sum_TFIDF', ylabel='ngram'>"
      ]
     },
     "execution_count": 11,
     "metadata": {},
     "output_type": "execute_result"
    },
    {
     "data": {
      "image/png": "[encoded data removed]",
      "text/plain": [
       "<Figure size 640x480 with 1 Axes>"
      ]
     },
     "metadata": {},
     "output_type": "display_data"
    }
   ],
   "source": [
    "# top ten most impactful words based on TF-IDF\n",
    "\n",
    "sum_features = np.sum(features, axis = 0)\n",
    "\n",
    "Top_20_ngrams = pd.DataFrame({'ngram': ngrams, 'sum_TFIDF': sum_features}).sort_values(by = 'sum_TFIDF', ascending = False).head(20)\n",
    "\n",
    "# Plot the top 20 ngrams\n",
    "sns.barplot(x = 'sum_TFIDF', y = 'ngram', data = Top_20_ngrams, palette = 'viridis')\n",
    "\n",
    "# the top 20 ngrams are interesting, some of them could be super informative such as government, others may be less so such as said."
   ]
  },
  {
   "cell_type": "markdown",
   "metadata": {},
   "source": [
    "### Building and training models. [35 pts]\n",
    "\n",
    "In the Kaggle competition, the training data has labels (category). Thus, it can be solved using supervised learning. In general, the more labeled data we have, the more accurate the supervised learning model will be. But unsupervised learning can be powerful even when there is a small number of labels or no labels. This assignment will apply an unsupervised approach, especially the matrix factorization method, to discover topics in the news articles and use the labels to check the accuracy.\n",
    "\n",
    "Here are some steps to guide this section: \n",
    "1) Think about this and answer: when you train the unsupervised model for matrix factorization, should you include texts (word features) from the test dataset or not as the input matrix? Why or why not?\n",
    "\n",
    "    In this case, because you are predicting categories, it doesn't make sense to include word features from the test dataset.  You are building a model on the training data and applying it to the test data.\n",
    "\n",
    "2) Build a model using the matrix factorization method(s) and predict the train and test data labels. Choose any hyperparameter (e.g., number of word features) to begin with.\n",
    "\n",
    "    Done\n",
    "\n",
    "3) Measure the performances on predictions from both train and test datasets. You can use accuracy, confusion matrix, etc., to inspect the performance. You can get accuracy for the test data by submitting the result to Kaggle. \n",
    "\n",
    "\n",
    "4) Change hyperparameter(s) and record the results. We recommend including a summary table and/or graphs.\n",
    "\n",
    "5) Improve the model performance if you can- some ideas may include but are not limited to; using different feature extraction methods, fit models in different subsets of data, ensemble the model prediction results, etc. "
   ]
  },
  {
   "cell_type": "code",
   "execution_count": 12,
   "metadata": {},
   "outputs": [
    {
     "name": "stdout",
     "output_type": "stream",
     "text": [
      "(1192, 5)\n",
      "(5, 208793)\n",
      "(208793,)\n",
      "[[0.00000000e+00 0.00000000e+00 0.00000000e+00 ... 2.43057581e-03\n",
      "  3.57772649e-03 3.57772649e-03]\n",
      " [1.57767980e-03 2.33558600e-04 1.41787863e-03 ... 0.00000000e+00\n",
      "  0.00000000e+00 0.00000000e+00]\n",
      " [1.37543720e-03 1.51030900e-03 0.00000000e+00 ... 0.00000000e+00\n",
      "  0.00000000e+00 0.00000000e+00]\n",
      " [1.60696872e-04 0.00000000e+00 2.89939517e-04 ... 0.00000000e+00\n",
      "  2.78939637e-05 2.78939637e-05]\n",
      " [1.72475758e-05 0.00000000e+00 9.19928200e-05 ... 0.00000000e+00\n",
      "  0.00000000e+00 0.00000000e+00]]\n"
     ]
    }
   ],
   "source": [
    "\n",
    "from sklearn.decomposition import NMF\n",
    "\n",
    "nmf_model = NMF(n_components=5, random_state=1337)\n",
    "W = nmf_model.fit_transform(features)\n",
    "H = nmf_model.components_\n",
    "\n",
    "print(W.shape)\n",
    "print(H.shape)\n",
    "print(ngrams.shape)\n",
    "print(H)"
   ]
  },
  {
   "cell_type": "code",
   "execution_count": 13,
   "metadata": {},
   "outputs": [
    {
     "name": "stdout",
     "output_type": "stream",
     "text": [
      "grouping: 1\n",
      "game\n",
      "england\n",
      "win\n",
      "cup\n",
      "said\n",
      "play\n",
      "season\n",
      "team\n",
      "injury\n",
      "match\n",
      "time\n",
      "world\n",
      "final\n",
      "coach\n",
      "players\n",
      "won\n",
      "year\n",
      "old\n",
      "ireland\n",
      "grouping: 2\n",
      "mr\n",
      "labour\n",
      "election\n",
      "blair\n",
      "party\n",
      "government\n",
      "minister\n",
      "mr blair\n",
      "prime\n",
      "prime minister\n",
      "said\n",
      "tories\n",
      "brown\n",
      "leader\n",
      "howard\n",
      "tony blair\n",
      "tony\n",
      "tory\n",
      "lib\n",
      "grouping: 3\n",
      "people\n",
      "mobile\n",
      "users\n",
      "technology\n",
      "digital\n",
      "phone\n",
      "music\n",
      "use\n",
      "software\n",
      "video\n",
      "phones\n",
      "said\n",
      "net\n",
      "microsoft\n",
      "million\n",
      "online\n",
      "service\n",
      "services\n",
      "new\n",
      "grouping: 4\n",
      "film\n",
      "best\n",
      "awards\n",
      "actor\n",
      "award\n",
      "oscar\n",
      "actress\n",
      "aviator\n",
      "director\n",
      "comedy\n",
      "star\n",
      "nominated\n",
      "won\n",
      "million dollar\n",
      "dollar baby\n",
      "films\n",
      "nominations\n",
      "best film\n",
      "baby\n",
      "grouping: 5\n",
      "said\n",
      "growth\n",
      "economy\n",
      "market\n",
      "year\n",
      "company\n",
      "firm\n",
      "bank\n",
      "economic\n",
      "shares\n",
      "2004\n",
      "oil\n",
      "financial\n",
      "deal\n",
      "chief\n",
      "analysts\n",
      "government\n",
      "business\n",
      "sales\n"
     ]
    }
   ],
   "source": [
    "# Look at top 20 words in each grouping\n",
    "\n",
    "grouping = 1\n",
    "for category in H:\n",
    "    top_word_indexs = np.argsort(category)[:-20:-1]\n",
    "    print('grouping:', grouping)\n",
    "    for i in top_word_indexs:\n",
    "        print(ngrams[i])\n",
    "    grouping += 1\n",
    "\n"
   ]
  },
  {
   "cell_type": "code",
   "execution_count": 14,
   "metadata": {},
   "outputs": [
    {
     "name": "stdout",
     "output_type": "stream",
     "text": [
      "Best permutation: (0, 2, 4, 3, 1)\n",
      "Best accuracy: 0.9228187919463087\n",
      "Train labels: Index(['sport', 'business', 'politics', 'entertainment', 'tech'], dtype='object')\n",
      "      preds         labels\n",
      "1166      0          sport\n",
      "1106      4       business\n",
      "538       1       politics\n",
      "439       0          sport\n",
      "1478      1       politics\n",
      "...     ...            ...\n",
      "1130      1       politics\n",
      "1294      4       business\n",
      "860       1       politics\n",
      "1459      0  entertainment\n",
      "1126      0          sport\n",
      "\n",
      "[1192 rows x 2 columns]\n",
      "Best permutation: (4, 1, 2, 0, 3)\n",
      "Best accuracy: 0.9395973154362416\n",
      "Test labels: Index(['entertainment', 'politics', 'tech', 'business', 'sport'], dtype='object')\n",
      "      preds         labels\n",
      "941       2  entertainment\n",
      "297       1       politics\n",
      "271       1       politics\n",
      "774       2           tech\n",
      "420       2           tech\n",
      "...     ...            ...\n",
      "1144      4       business\n",
      "1309      1       business\n",
      "1444      3  entertainment\n",
      "949       2           tech\n",
      "1212      3  entertainment\n",
      "\n",
      "[298 rows x 2 columns]\n"
     ]
    }
   ],
   "source": [
    "# Tool to match categories to labels giving the best accuracy score.  \n",
    "import itertools\n",
    "\n",
    "def label_permute_compare(labels,pred,n=5):\n",
    "    label_factors = pd.factorize(labels)[0]\n",
    "    pred_pd = pd.DataFrame(pred)\n",
    "    best_acc = 0\n",
    "    best_perm = None\n",
    "   \n",
    "    for perm in itertools.permutations(range(n)):\n",
    "        perm_yp = pred_pd.replace(list(range(n)), list(perm))\n",
    "        perm_acc = accuracy_score(label_factors, perm_yp)\n",
    "        if perm_acc > best_acc:\n",
    "            best_acc = perm_acc\n",
    "            best_perm = perm\n",
    "    return best_perm, best_acc, pd.factorize(labels)[1]\n",
    "\n",
    "\n",
    "preds = np.argmax(W, axis = 1)\n",
    "preds_and_labels = pd.DataFrame({'preds': preds, 'labels': y_train})\n",
    "\n",
    "best_perm, best_acc, train_labs = label_permute_compare(preds_and_labels['labels'],preds_and_labels['preds'],n=5)\n",
    "print(\"Best permutation:\", best_perm)\n",
    "print(\"Best accuracy:\", best_acc)\n",
    "print(\"Train labels:\", train_labs)\n",
    "print(preds_and_labels)\n",
    "\n",
    "\n",
    "\n",
    "# vectorize test data\n",
    "test_vecs = vectorizer_model.transform(X_val)\n",
    "\n",
    "# transform test data using the NMF model\n",
    "w_test = nmf_model.transform(test_vecs) \n",
    "\n",
    "test_preds = np.argmax(w_test, axis = 1)\n",
    "test_preds_and_labels = pd.DataFrame({'preds': test_preds, 'labels': y_val})\n",
    "test_best_perm, test_best_acc, test_labs = label_permute_compare(test_preds_and_labels['labels'],test_preds_and_labels['preds'],n=5)\n",
    "print(\"Best permutation:\", test_best_perm)\n",
    "print(\"Best accuracy:\", test_best_acc)\n",
    "print(\"Test labels:\", test_labs)\n",
    "print(test_preds_and_labels)\n",
    "\n"
   ]
  },
  {
   "cell_type": "code",
   "execution_count": 15,
   "metadata": {},
   "outputs": [
    {
     "name": "stdout",
     "output_type": "stream",
     "text": [
      "   category_number  category_name\n",
      "0                0          sport\n",
      "1                4       business\n",
      "2                1       politics\n",
      "3                3  entertainment\n",
      "4                2           tech\n",
      "      preds         labels\n",
      "1166      0          sport\n",
      "1106      4       business\n",
      "538       1       politics\n",
      "439       0          sport\n",
      "1478      1       politics\n",
      "...     ...            ...\n",
      "1130      1       politics\n",
      "1294      4       business\n",
      "860       1       politics\n",
      "1459      0  entertainment\n",
      "1126      0          sport\n",
      "\n",
      "[1192 rows x 2 columns]\n",
      "         preds         labels\n",
      "1166     sport          sport\n",
      "1106  business       business\n",
      "538   politics       politics\n",
      "439      sport          sport\n",
      "1478  politics       politics\n",
      "...        ...            ...\n",
      "1130  politics       politics\n",
      "1294  business       business\n",
      "860   politics       politics\n",
      "1459     sport  entertainment\n",
      "1126     sport          sport\n",
      "\n",
      "[1192 rows x 2 columns]\n",
      "[[251   0   4   0   6]\n",
      " [ 13 180   7   7  20]\n",
      " [ 13   0 201   0   4]\n",
      " [  2   2   1 278   0]\n",
      " [  7   3   0   3 190]]\n"
     ]
    }
   ],
   "source": [
    "# Create a index to label mapping\n",
    "index_to_labels = pd.DataFrame({'category_number': [0,4,1,3,2], 'category_name': pd.factorize(y_train)[1]})                  \n",
    "print(index_to_labels)\n",
    "print(preds_and_labels)\n",
    "preds_and_labels_fixed = preds_and_labels.replace(list(index_to_labels['category_number']), list(index_to_labels['category_name']))\n",
    "\n",
    "print(preds_and_labels_fixed)\n",
    "\n",
    "print(confusion_matrix(preds_and_labels_fixed['labels'], preds_and_labels_fixed['preds']))"
   ]
  },
  {
   "cell_type": "code",
   "execution_count": 16,
   "metadata": {},
   "outputs": [
    {
     "name": "stdout",
     "output_type": "stream",
     "text": [
      "0      1018\n",
      "1      1319\n",
      "2      1138\n",
      "3       459\n",
      "4      1020\n",
      "       ... \n",
      "730    1923\n",
      "731     373\n",
      "732    1704\n",
      "733     206\n",
      "734     471\n",
      "Name: ArticleId, Length: 735, dtype: int64\n",
      "0              sport\n",
      "1               tech\n",
      "2              sport\n",
      "3           business\n",
      "4              sport\n",
      "           ...      \n",
      "730         business\n",
      "731    entertainment\n",
      "732             tech\n",
      "733         business\n",
      "734         politics\n",
      "Name: pred, Length: 735, dtype: object\n"
     ]
    }
   ],
   "source": [
    "# Submit test to kaggle\n",
    "# vectorize test data\n",
    "test_vecs = vectorizer_model.transform(test['Text'])\n",
    "\n",
    "# transform test data using the NMF model\n",
    "w_test = nmf_model.transform(test_vecs) \n",
    "\n",
    "test_preds = np.argmax(w_test, axis = 1)\n",
    "\n",
    "test_preds_replaced = pd.DataFrame({'pred': test_preds}).replace(list(index_to_labels['category_number']), list(index_to_labels['category_name']))\n",
    "\n",
    "\n",
    "print(test['ArticleId'])\n",
    "print(test_preds_replaced['pred'])\n",
    "\n",
    "kaggle_df = pd.DataFrame({'ArticleId': np.array(test['ArticleId']), 'Category': test_preds_replaced['pred']})\n",
    "\n",
    "# Make the final predictions and save them to a csv file\n",
    "\n",
    "kaggle_df.to_csv('data/NMF_First_Submission.csv', index=False)"
   ]
  },
  {
   "cell_type": "code",
   "execution_count": null,
   "metadata": {},
   "outputs": [
    {
     "name": "stdout",
     "output_type": "stream",
     "text": [
      "Successfully submitted to BBC News Classification\n"
     ]
    },
    {
     "name": "stderr",
     "output_type": "stream",
     "text": [
      "\n",
      "  0%|          | 0.00/9.82k [00:00<?, ?B/s]\n",
      "100%|██████████| 9.82k/9.82k [00:00<00:00, 23.4kB/s]\n"
     ]
    }
   ],
   "source": [
    "# Use this to submit the file to kaggle.\n",
    "# !kaggle competitions submit -c learn-ai-bbc -f data\\NMF_First_Submission.csv -m \"1st NMF submission\""
   ]
  },
  {
   "attachments": {
    "image.png": {
     "image/png": "[encoded data removed]"
    }
   },
   "cell_type": "markdown",
   "metadata": {},
   "source": [
    "#### First Kaggle Submission\n",
    "![image.png](attachment:image.png)"
   ]
  },
  {
   "cell_type": "code",
   "execution_count": 17,
   "metadata": {},
   "outputs": [
    {
     "name": "stdout",
     "output_type": "stream",
     "text": [
      "Regularization: 0\n",
      "Best permutation: (0, 2, 4, 3, 1)\n",
      "Best accuracy: 0.9228187919463087\n",
      "Train labels: Index(['sport', 'business', 'politics', 'entertainment', 'tech'], dtype='object')\n",
      "Best permutation: (4, 1, 2, 0, 3)\n",
      "Best accuracy: 0.9395973154362416\n",
      "Train labels: Index(['entertainment', 'politics', 'tech', 'business', 'sport'], dtype='object')\n",
      "Regularization: 0.5\n",
      "Best permutation: (0, 2, 4, 3, 1)\n",
      "Best accuracy: 0.2634228187919463\n",
      "Train labels: Index(['sport', 'business', 'politics', 'entertainment', 'tech'], dtype='object')\n",
      "Best permutation: (3, 0, 1, 2, 4)\n",
      "Best accuracy: 0.2516778523489933\n",
      "Train labels: Index(['entertainment', 'politics', 'tech', 'business', 'sport'], dtype='object')\n",
      "Regularization: 1\n",
      "Best permutation: (0, 2, 4, 3, 1)\n",
      "Best accuracy: 0.2634228187919463\n",
      "Train labels: Index(['sport', 'business', 'politics', 'entertainment', 'tech'], dtype='object')\n",
      "Best permutation: (3, 0, 1, 2, 4)\n",
      "Best accuracy: 0.2516778523489933\n",
      "Train labels: Index(['entertainment', 'politics', 'tech', 'business', 'sport'], dtype='object')\n"
     ]
    }
   ],
   "source": [
    "### Hyperparameter tuning\n",
    "\n",
    "def word_embeddings(X_data, max_ngrams):\n",
    "    # Strip accents, which are just extra characters, sublinear_tf makes is so the tf using a log scale, \n",
    "    # as words use zips law[3], stripping stop words, and using ngrams of 1 or 2 words.\n",
    "    tfidf = TfidfVectorizer(strip_accents = 'unicode', sublinear_tf=True, ngram_range=(1, max_ngrams), stop_words='english')\n",
    "    features = tfidf.fit_transform(X_data).toarray()\n",
    "    return features, tfidf.get_feature_names_out(), tfidf\n",
    "\n",
    "def create_nmf_model(feature_data, w_reg):\n",
    "    nmf_model = NMF(n_components=5, random_state=1337, alpha_W = w_reg)\n",
    "    W = nmf_model.fit_transform(feature_data)\n",
    "    H = nmf_model.components_\n",
    "    return W, H, nmf_model\n",
    "\n",
    "def label_permute_compare(labels,W,n=5):\n",
    "    pred = np.argmax(W, axis = 1)\n",
    "    label_factors = pd.factorize(labels)[0]\n",
    "    pred_pd = pd.DataFrame(pred)\n",
    "    best_acc = 0\n",
    "    best_perm = None\n",
    "   \n",
    "    for perm in itertools.permutations(range(n)):\n",
    "        perm_yp = pred_pd.replace(list(range(n)), list(perm))\n",
    "        perm_acc = accuracy_score(label_factors, perm_yp)\n",
    "        if perm_acc > best_acc:\n",
    "            best_acc = perm_acc\n",
    "            best_perm = perm\n",
    "    return best_perm, best_acc, pd.factorize(labels)[1]\n",
    "\n",
    "def print_results(best_perm, best_acc, train_labs):\n",
    "    print(\"Best permutation:\", best_perm)\n",
    "    print(\"Best accuracy:\", best_acc)\n",
    "    print(\"Train labels:\", train_labs)\n",
    "\n",
    "# Test regularization parameter\n",
    "for w in [0, 0.5, 1]:\n",
    "    features, ngrams, vectorizer_model = word_embeddings(X_train, max_ngrams=2)\n",
    "    W, H, nmf_model = create_nmf_model(features, w_reg = w)\n",
    "    best_perm, best_acc, train_labs = label_permute_compare(y_train,W,n=5)\n",
    "    print(\"Regularization:\", w)\n",
    "    print_results(best_perm, best_acc, train_labs)\n",
    "    # run on validation set\n",
    "    val_vecs = vectorizer_model.transform(X_val)\n",
    "    w_val = nmf_model.transform(val_vecs) \n",
    "    val_best_perm, val_best_acc, val_labs = label_permute_compare(y_val,w_val,n=5)\n",
    "    print_results(val_best_perm, val_best_acc, val_labs)\n"
   ]
  },
  {
   "cell_type": "code",
   "execution_count": 18,
   "metadata": {},
   "outputs": [
    {
     "name": "stdout",
     "output_type": "stream",
     "text": [
      "Max_Ngram_Size: 1\n",
      "Best permutation: (2, 0, 4, 3, 1)\n",
      "Best accuracy: 0.9312080536912751\n",
      "Train labels: Index(['sport', 'business', 'politics', 'entertainment', 'tech'], dtype='object')\n",
      "Best permutation: (1, 4, 2, 0, 3)\n",
      "Best accuracy: 0.9530201342281879\n",
      "Train labels: Index(['entertainment', 'politics', 'tech', 'business', 'sport'], dtype='object')\n",
      "Max_Ngram_Size: 2\n",
      "Best permutation: (0, 2, 4, 3, 1)\n",
      "Best accuracy: 0.9228187919463087\n",
      "Train labels: Index(['sport', 'business', 'politics', 'entertainment', 'tech'], dtype='object')\n",
      "Best permutation: (4, 1, 2, 0, 3)\n",
      "Best accuracy: 0.9395973154362416\n",
      "Train labels: Index(['entertainment', 'politics', 'tech', 'business', 'sport'], dtype='object')\n",
      "Max_Ngram_Size: 3\n",
      "Best permutation: (0, 2, 4, 3, 1)\n",
      "Best accuracy: 0.912751677852349\n",
      "Train labels: Index(['sport', 'business', 'politics', 'entertainment', 'tech'], dtype='object')\n",
      "Best permutation: (4, 1, 2, 0, 3)\n",
      "Best accuracy: 0.9295302013422819\n",
      "Train labels: Index(['entertainment', 'politics', 'tech', 'business', 'sport'], dtype='object')\n"
     ]
    }
   ],
   "source": [
    "# Test max ngrams size\n",
    "for ngram in [1, 2, 3]:\n",
    "    features, ngrams, vectorizer_model = word_embeddings(X_train, max_ngrams=ngram)\n",
    "    W, H, nmf_model = create_nmf_model(features, w_reg = 0)\n",
    "    best_perm, best_acc, train_labs = label_permute_compare(y_train,W,n=5)\n",
    "    print(\"Max_Ngram_Size:\", ngram)\n",
    "    print_results(best_perm, best_acc, train_labs)\n",
    "    # run on validation set\n",
    "    val_vecs = vectorizer_model.transform(X_val)\n",
    "    w_val = nmf_model.transform(val_vecs) \n",
    "    val_best_perm, val_best_acc, val_labs = label_permute_compare(y_val,w_val,n=5)\n",
    "    print_results(val_best_perm, val_best_acc, val_labs)"
   ]
  },
  {
   "cell_type": "markdown",
   "metadata": {},
   "source": [
    "## Hyper Parameter Results\n",
    "\n",
    "#### W Regularization\n",
    "| W Regularization Value | Train Acc | Test Acc |\n",
    "| ----------- | ----------- | ----------- |\n",
    "| 0 | 0.92 |  0.94 |\n",
    "| 0.5 | 0.26 |  0.25 |\n",
    "| 1 | 0.26 | 0.25 |\n",
    "\n",
    "#### Ngrams\n",
    "| Max Ngram Size | Train Acc | Test Acc |\n",
    "| ----------- | ----------- | ----------- |\n",
    "| 1 | 0.93 |  0.95 |\n",
    "| 2 | 0.92 |  0.94 |\n",
    "| 3 | 0.91 | 0.93 |"
   ]
  },
  {
   "cell_type": "code",
   "execution_count": 19,
   "metadata": {},
   "outputs": [
    {
     "name": "stdout",
     "output_type": "stream",
     "text": [
      "Best permutation: (2, 0, 4, 3, 1)\n",
      "Best accuracy: 0.9312080536912751\n",
      "Train labels: Index(['sport', 'business', 'politics', 'entertainment', 'tech'], dtype='object')\n"
     ]
    }
   ],
   "source": [
    "# Looks like regularization is not helping much, but decreasing the ngram size does seem to help.  Going to retrain the kaggle model with ngram size of 1.\n",
    "\n",
    "features, ngrams, vectorizer_model = word_embeddings(X_train, max_ngrams=1)\n",
    "W, H, nmf_model = create_nmf_model(features, w_reg = 0)\n",
    "best_perm, best_acc, train_labs = label_permute_compare(y_train,W,n=5)\n",
    "print_results(best_perm, best_acc, train_labs)\n",
    "\n",
    "# pred = np.argmax(W, axis = 1)\n",
    "# preds_and_labels = pd.DataFrame({'preds': pred, 'labels': y_train})\n",
    "# print(preds_and_labels)\n",
    "# preds_replaced = preds_and_labels.replace([1,4,0,3,2], list(train_labs.values))\n",
    "# print(preds_replaced)\n",
    "# print(confusion_matrix(preds_replaced['labels'], preds_replaced['preds']))\n",
    "\n",
    "test_vecs = vectorizer_model.transform(test['Text'])\n",
    "w_test = nmf_model.transform(test_vecs) \n",
    "test_preds = np.argmax(w_test, axis = 1)\n",
    "test_preds_replaced = pd.DataFrame({'pred': test_preds}).replace([1,4,0,3,2], list(train_labs.values))\n",
    "# print(test['ArticleId'])\n",
    "# print(test_preds_replaced['pred'])\n",
    "\n",
    "kaggle_df = pd.DataFrame({'ArticleId': np.array(test['ArticleId']), 'Category': test_preds_replaced['pred']})\n",
    "\n",
    "# Make the final predictions and save them to a csv file\n",
    "\n",
    "kaggle_df.to_csv('data/NMF_Second_Submission.csv', index=False)"
   ]
  },
  {
   "cell_type": "code",
   "execution_count": null,
   "metadata": {},
   "outputs": [
    {
     "name": "stdout",
     "output_type": "stream",
     "text": [
      "Successfully submitted to BBC News Classification\n"
     ]
    },
    {
     "name": "stderr",
     "output_type": "stream",
     "text": [
      "\n",
      "  0%|          | 0.00/9.80k [00:00<?, ?B/s]\n",
      "100%|██████████| 9.80k/9.80k [00:00<00:00, 23.5kB/s]\n"
     ]
    }
   ],
   "source": [
    "# Use this to submit the file to kaggle.\n",
    "# !kaggle competitions submit -c learn-ai-bbc -f data\\NMF_Second_Submission.csv -m \"2nd NMF submission take 3\""
   ]
  },
  {
   "attachments": {
    "image.png": {
     "image/png": "[encoded data removed]"
    }
   },
   "cell_type": "markdown",
   "metadata": {},
   "source": [
    "### Hyperparameter Tuning Results\n",
    "\n",
    "![image.png](attachment:image.png)\n",
    "\n",
    "\n",
    "Using only single words as possible ngrams didn't improve the accuracy."
   ]
  },
  {
   "cell_type": "markdown",
   "metadata": {},
   "source": [
    "## Compare with supervised learning [30 pts]\n",
    "\n",
    "Use the following steps to guide your work:\n",
    "\n",
    "1) Pick and train a supervised learning method(s) and compare the results (train and test performance)\n",
    "2) Discuss comparison with the unsupervised approach. You may try changing the train data size (e.g., Include only 10%, 20%, 50% of labels, and observe train/test performance changes). Which methods are data-efficient (require a smaller amount of data to achieve similar results)? What about overfitting?\n"
   ]
  },
  {
   "cell_type": "code",
   "execution_count": null,
   "metadata": {},
   "outputs": [
    {
     "name": "stdout",
     "output_type": "stream",
     "text": [
      "Train accuracy: 1.0\n",
      "Validation accuracy: 0.9865771812080537\n"
     ]
    },
    {
     "data": {
      "image/png": "[encoded data removed]",
      "text/plain": [
       "<Figure size 640x480 with 2 Axes>"
      ]
     },
     "metadata": {},
     "output_type": "display_data"
    },
    {
     "name": "stdout",
     "output_type": "stream",
     "text": [
      "Train accuracy: 1.0\n",
      "Validation accuracy: 0.9798657718120806\n"
     ]
    },
    {
     "data": {
      "image/png": "[encoded data removed]",
      "text/plain": [
       "<Figure size 640x480 with 2 Axes>"
      ]
     },
     "metadata": {},
     "output_type": "display_data"
    }
   ],
   "source": [
    "# Going to apply a logistic regression model to the data using 5 fold cross validation.  Ideal is to help with overfitting.\n",
    "from sklearn.linear_model import LogisticRegressionCV\n",
    "\n",
    "# this is for an 80-20 test train split.\n",
    "features, ngrams, vectorizer_model = word_embeddings(X_train, max_ngrams=1)\n",
    "\n",
    "log_reg = LogisticRegressionCV(cv=5).fit(features, y_train)\n",
    "y_pred = log_reg.predict(features)\n",
    "print(\"Train accuracy:\", accuracy_score(y_train, y_pred))\n",
    "y_pred_val = log_reg.predict(vectorizer_model.transform(X_val))\n",
    "print(\"Validation accuracy:\", accuracy_score(y_val, y_pred_val))\n",
    "\n",
    "conf_matrix = confusion_matrix(y_val, y_pred_val)\n",
    "sns.heatmap(conf_matrix, annot=True, fmt='d', cmap='Blues')\n",
    "plt.title('Confusion Matrix Validation Set')\n",
    "plt.ylabel('Actual Label')\n",
    "plt.xlabel('Predicted Label')\n",
    "plt.show()\n",
    "# model turned out great, predicting on the val set with 99% accuracy.\n",
    "\n",
    "# Test with 50-50 test train split.\n",
    "X_train, X_val, y_train, y_val = train_test_split(train['Text'], train['Category'], test_size=0.5, random_state=42)\n",
    "features, ngrams, vectorizer_model = word_embeddings(X_train, max_ngrams=1)\n",
    "\n",
    "log_reg = LogisticRegressionCV(cv=5).fit(features, y_train)\n",
    "y_pred = log_reg.predict(features)\n",
    "print(\"Train accuracy:\", accuracy_score(y_train, y_pred))\n",
    "y_pred_val = log_reg.predict(vectorizer_model.transform(X_val))\n",
    "print(\"Validation accuracy:\", accuracy_score(y_val, y_pred_val))\n",
    "\n",
    "conf_matrix = confusion_matrix(y_val, y_pred_val)\n",
    "sns.heatmap(conf_matrix, annot=True, fmt='d', cmap='Blues')\n",
    "plt.title('Confusion Matrix Validation Set: 50-50 Train-Test')\n",
    "plt.ylabel('Actual Label')\n",
    "plt.xlabel('Predicted Label')\n",
    "plt.show()\n",
    "\n",
    "# Model with only 50% of the data is not as good, but still decent with 98% accuracy.  Because of the cross validation, its not overfitting. \n",
    "#  I would guess that you need a lot of data for an nmf model to work.  You could apply a regression model with a lot less data, though it \n",
    "#  seems to get better with the more you have.  This is probably due to how sparse the data is."
   ]
  },
  {
   "cell_type": "markdown",
   "metadata": {},
   "source": [
    "## Conclusions\n",
    "\n",
    "Overall it seems that logistic regression with cross validation performs better for this problem.  However, if the labels are not known or just a few are know, nmf gets pretty close from an accuracy perspective.  It would be interesting to try a other types of hyper parameter tuning to see if this gap in accuracy can be closed from .94 of the nmf to the .99 of the logistic regression.  Some things to investigate would be different embedding techniques, or perhaps some ensembling methods using other clustering techniques."
   ]
  },
  {
   "cell_type": "markdown",
   "metadata": {},
   "source": [
    "## References\n",
    "[1] Bijoy Bose. BBC News Classification. https://kaggle.com/competitions/learn-ai-bbc, 2019. Kaggle.\n",
    "\n",
    "[2] Wikipedia contributors. (2025, January 10). Tf–idf. https://en.wikipedia.org/wiki/Tf%E2%80%93idf\n",
    "\n",
    "[3] Kachkach, A. (2018, January 10). Problem-solving with ML: automatic document classification. Google Cloud Blog. https://cloud.google.com/blog/products/ai-machine-learning/problem-solving-with-ml-automatic-document-classification\n"
   ]
  }
 ],
 "metadata": {
  "kernelspec": {
   "display_name": ".venv",
   "language": "python",
   "name": "python3"
  },
  "language_info": {
   "codemirror_mode": {
    "name": "ipython",
    "version": 3
   },
   "file_extension": ".py",
   "mimetype": "text/x-python",
   "name": "python",
   "nbconvert_exporter": "python",
   "pygments_lexer": "ipython3",
   "version": "3.12.9"
  }
 },
 "nbformat": 4,
 "nbformat_minor": 2
}
